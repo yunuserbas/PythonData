{
  "nbformat": 4,
  "nbformat_minor": 0,
  "metadata": {
    "colab": {
      "provenance": []
    },
    "kernelspec": {
      "name": "python3",
      "display_name": "Python 3"
    },
    "language_info": {
      "name": "python"
    }
  },
  "cells": [
    {
      "cell_type": "code",
      "source": [
        "def déchiffre(phrase):\n",
        "  sortie = []\n",
        "  cryptText = []\n",
        "\n",
        "  listeAlphabet = [\"a\", \"b\", \"c\", \"d\", \"e\", \"f\", \"g\", \"h\", \"i\", \"j\", \"k\", \"l\", \"m\", \"n\", \"o\", \"p\", \"q\", \"r\", \"s\", \"t\", \"u\", \"v\", \"w\", \"x\", \"y\", \"z\"]\n",
        "\n",
        "  for lettre in phrase:\n",
        "    if lettre in listeAlphabet:\n",
        "      index = listeAlphabet.index(lettre)\n",
        "      nombre = (index - 7)\n",
        "      cryptText.append(nombre)\n",
        "      nouvelleLettre = listeAlphabet[nombre]\n",
        "      sortie.append(nouvelleLettre)\n",
        "  print(*sortie)\n",
        "\n",
        "déchiffre((input()))"
      ],
      "metadata": {
        "colab": {
          "base_uri": "https://localhost:8080/"
        },
        "id": "XQx-xWViV3Q5",
        "outputId": "8413e5d0-fada-4124-8973-df3379c6c85d"
      },
      "execution_count": 1,
      "outputs": [
        {
          "output_type": "stream",
          "name": "stdout",
          "text": [
            "mlspjpahapvuz, jlzhy zlyhpa mply kl avp, zp zlbsltlua ps jvuuhpzzhpa wfaovu\n",
            "f e l i c i t a t i o n s c e s a r s e r a i t f i e r d e t o i s i s e u l e m e n t i l c o n n a i s s a i t p y t h o n\n"
          ]
        }
      ]
    }
  ]
}

