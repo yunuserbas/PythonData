{
  "nbformat": 4,
  "nbformat_minor": 0,
  "metadata": {
    "colab": {
      "provenance": []
    },
    "kernelspec": {
      "name": "python3",
      "display_name": "Python 3"
    }
  },
  "cells": [
    {
      "cell_type": "markdown",
      "metadata": {
        "id": "K7HOMJUBt5cD"
      },
      "source": [
        "# Mission 1"
      ]
    },
    {
      "cell_type": "markdown",
      "metadata": {
        "id": "6IqfpiNQujlE"
      },
      "source": [
        "Find a way to calculate the following statistical indicators for any given one-dimensional array using NumPy functions, and use them on a array filled with 20 random floats.\n",
        "- mode\n",
        "- median\n",
        "- average\n",
        "- the range (the difference between max and min)\n",
        "- standard deviation\n",
        "- variance\n",
        "- the different quantiles\n",
        "\n",
        "Then, create another array with 20 random floats and calculate the Pearson coefficient between the two arrays."
      ]
    },
    {
      "cell_type": "code",
      "metadata": {
        "id": "lSzKwJ2PyWyz",
        "colab": {
          "base_uri": "https://localhost:8080/"
        },
        "outputId": "ad5b17c1-9602-47c3-870c-602c312f5339"
      },
      "source": [
        "import numpy as np\n",
        "\n",
        "# Generate an array of 20 random floats\n",
        "arr1 = np.random.rand(20)\n",
        "\n",
        "# Mode\n",
        "mode = np.argmax(np.bincount(arr1.astype(int)))\n",
        "print(\"Mode:\", mode)\n",
        "\n",
        "# Median\n",
        "median = np.median(arr1)\n",
        "print(\"Median:\", median)\n",
        "\n",
        "# Average\n",
        "average = np.mean(arr1)\n",
        "print(\"Average:\", average)\n",
        "\n",
        "# Range\n",
        "range = np.ptp(arr1)\n",
        "print(\"Range:\", range)\n",
        "\n",
        "# Standard deviation\n",
        "std = np.std(arr1)\n",
        "print(\"Standard deviation:\", std)\n",
        "\n",
        "# Variance\n",
        "var = np.var(arr1)\n",
        "print(\"Variance:\", var)\n",
        "\n",
        "# Quantiles\n",
        "quantiles = np.percentile(arr1, [25, 50, 75])\n",
        "print(\"Quantiles:\", quantiles)\n",
        "\n",
        "# Generate another array of 20 random floats\n",
        "arr2 = np.random.rand(20)\n",
        "\n",
        "# Pearson coefficient\n",
        "pearson_coef = np.corrcoef(arr1, arr2)[0, 1]\n",
        "print(\"Pearson coefficient:\", pearson_coef)\n"
      ],
      "execution_count": 2,
      "outputs": [
        {
          "output_type": "stream",
          "name": "stdout",
          "text": [
            "Mode: 0\n",
            "Median: 0.6638394438575972\n",
            "Average: 0.5400533760155085\n",
            "Range: 0.8058960995568047\n",
            "Standard deviation: 0.25823062214713033\n",
            "Variance: 0.06668305421449398\n",
            "Quantiles: [0.35288149 0.66383944 0.76168219]\n",
            "Pearson coefficient: 0.33634333919782927\n"
          ]
        }
      ]
    },
    {
      "cell_type": "markdown",
      "metadata": {
        "id": "dSPGdxdsy5sg"
      },
      "source": [
        "## Mission 2\n",
        "\n",
        "Create a function using NumPy that indicates the values (integers only), from -100 to 100, where the remainder from performing Euclidean division by both 3 and 7 is equal."
      ]
    },
    {
      "cell_type": "code",
      "metadata": {
        "id": "_6S3mTjiy5jT",
        "colab": {
          "base_uri": "https://localhost:8080/"
        },
        "outputId": "9562a053-88b6-44a4-8fc8-d115555eb878"
      },
      "source": [
        "def divisible_by_3_and_7(start, stop):\n",
        "    \"\"\"\n",
        "    Finds all integers in the range [start, stop] that are divisible by both 3 and 7\n",
        "    using Euclidean division.\n",
        "    \"\"\"\n",
        "    # Create an array of integers in the specified range\n",
        "    arr = np.arange(start, stop+1)\n",
        "\n",
        "    # Use the mod operator to find the remainder of division by 3 and 7\n",
        "    remainder_3 = arr % 3\n",
        "    remainder_7 = arr % 7\n",
        "\n",
        "    # Find the indices where the remainders are equal to 0\n",
        "    idx_3 = np.where(remainder_3 == 0)\n",
        "    idx_7 = np.where(remainder_7 == 0)\n",
        "\n",
        "    # Find the values where the remainders are equal to 0\n",
        "    divisible_3 = arr[idx_3]\n",
        "    divisible_7 = arr[idx_7]\n",
        "\n",
        "    # Find the common elements of both arrays\n",
        "    divisible_3_and_7 = np.intersect1d(divisible_3, divisible_7)\n",
        "    return divisible_3_and_7\n",
        "\n",
        "# Find the integers between -100 and 100 that are divisible by both 3 and 7\n",
        "result = divisible_by_3_and_7(-100,100)\n",
        "print(result)"
      ],
      "execution_count": 3,
      "outputs": [
        {
          "output_type": "stream",
          "name": "stdout",
          "text": [
            "[-84 -63 -42 -21   0  21  42  63  84]\n"
          ]
        }
      ]
    },
    {
      "cell_type": "markdown",
      "metadata": {
        "id": "Tr3pka4-0az7"
      },
      "source": [
        "## Mission 3\n",
        "\n",
        "Create a function that returns the [inverse value](https://en.wikipedia.org/wiki/Multiplicative_inverse) of a set of values contained in a NumPy array.\n",
        "For example : for 3, the function should return '0.3333333333333333')"
      ]
    },
    {
      "cell_type": "code",
      "metadata": {
        "id": "m4qgMMqH0hSl",
        "colab": {
          "base_uri": "https://localhost:8080/"
        },
        "outputId": "b16ca743-3448-4cda-ee1c-66d38b84b083"
      },
      "source": [
        "def inverse_values(arr):\n",
        "    \"\"\"\n",
        "    Returns the inverse values of a set of values contained in a NumPy array.\n",
        "    \"\"\"\n",
        "    # Use the numpy function reciprocal to return the reciprocal of each element in the array\n",
        "    inverse_arr = 1.0/arr\n",
        "    return inverse_arr\n",
        "\n",
        "# Example usage\n",
        "arr = np.array([3, 5, 7])\n",
        "result = inverse_values(arr)\n",
        "print(result)"
      ],
      "execution_count": 5,
      "outputs": [
        {
          "output_type": "stream",
          "name": "stdout",
          "text": [
            "[0.33333333 0.2        0.14285714]\n"
          ]
        }
      ]
    },
    {
      "cell_type": "code",
      "source": [],
      "metadata": {
        "id": "AVOF595toDMS"
      },
      "execution_count": null,
      "outputs": []
    }
  ]
}
